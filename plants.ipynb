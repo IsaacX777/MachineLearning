{
  "nbformat": 4,
  "nbformat_minor": 0,
  "metadata": {
    "colab": {
      "provenance": [],
      "authorship_tag": "ABX9TyN4kHHtODMmLtIk6rGoJJGE",
      "include_colab_link": true
    },
    "kernelspec": {
      "name": "python3",
      "display_name": "Python 3"
    },
    "language_info": {
      "name": "python"
    }
  },
  "cells": [
    {
      "cell_type": "markdown",
      "metadata": {
        "id": "view-in-github",
        "colab_type": "text"
      },
      "source": [
        "<a href=\"https://colab.research.google.com/github/IsaacX777/MachineLearning/blob/main/plants.ipynb\" target=\"_parent\"><img src=\"https://colab.research.google.com/assets/colab-badge.svg\" alt=\"Open In Colab\"/></a>"
      ]
    },
    {
      "cell_type": "code",
      "execution_count": 3,
      "metadata": {
        "id": "f1JkORGjUpBh"
      },
      "outputs": [],
      "source": [
        "import pandas as pd\n",
        "import torch\n",
        "import numpy as np\n",
        "import os\n",
        "from PIL import Image"
      ]
    },
    {
      "cell_type": "code",
      "source": [
        "from zipfile import ZipFile\n",
        "file_name = 'Data.zip'\n",
        "\n",
        "with ZipFile(file_name, 'r') as zip:\n",
        "  zip.extractall()"
      ],
      "metadata": {
        "id": "1zRMzBSVU_iH"
      },
      "execution_count": 5,
      "outputs": []
    },
    {
      "cell_type": "code",
      "source": [
        "train_df = pd.read_csv('train.csv')\n",
        "test_df = pd.read_csv('test.csv')\n",
        "val_df = pd.read_csv('val.csv')"
      ],
      "metadata": {
        "id": "TMt4o1ueYXNI"
      },
      "execution_count": 4,
      "outputs": []
    },
    {
      "cell_type": "code",
      "source": [
        "def load_images(df):\n",
        "  images = []\n",
        "  labels = df['category']\n",
        "  for image_path in df['image:FILE']:\n",
        "    img = Image.open(image_path)\n",
        "    img = img.resize((128, 128))\n",
        "    img = np.array(img) / 255.0\n",
        "    images.append(img)\n",
        "  return torch.from_numpy(np.array(images)), torch.from_numpy(np.array(labels))"
      ],
      "metadata": {
        "id": "HbSEoe9CWUhG"
      },
      "execution_count": 5,
      "outputs": []
    },
    {
      "cell_type": "code",
      "source": [
        "train_images, train_labels = load_images(train_df)\n",
        "test_images, test_labels = load_images(test_df)\n",
        "val_images, val_labels = load_images(val_df)"
      ],
      "metadata": {
        "id": "6-rTSZVxZVuI"
      },
      "execution_count": 6,
      "outputs": []
    },
    {
      "cell_type": "code",
      "source": [
        "model = torch.nn.Sequential(\n",
        "\n",
        ")"
      ],
      "metadata": {
        "id": "ePWzRD-MZo5P"
      },
      "execution_count": null,
      "outputs": []
    }
  ]
}